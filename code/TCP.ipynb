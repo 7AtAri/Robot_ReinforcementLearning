{
 "cells": [
  {
   "cell_type": "markdown",
   "metadata": {},
   "source": [
    "# Calculating the Tool Center Point (TCP)"
   ]
  },
  {
   "cell_type": "code",
   "execution_count": null,
   "metadata": {},
   "outputs": [],
   "source": [
    "from sympy import symbols, cos, sin, Matrix, pi\n",
    "import numpy as np\n",
    "from scipy.optimize import minimize"
   ]
  },
  {
   "cell_type": "code",
   "execution_count": null,
   "metadata": {},
   "outputs": [],
   "source": [
    "# define joint angles\n",
    "theta1, theta2, theta3, theta4, theta5, theta6 = symbols('theta1 theta2 theta3 theta4 theta5 theta6')\n",
    "\n",
    "# denavit-Hartenberg parameters for each joint\n",
    "a = [0, -0.24355, -0.2132, 0, 0, 0]\n",
    "d = [0.15185, 0, 0, 0.13105, 0.08535, 0.0921]\n",
    "alpha = [pi/2, 0, 0, pi/2, -pi/2, 0]\n",
    "theta = [theta1, theta2, theta3, theta4, theta5, theta6]\n",
    "\n",
    "# transformation matrix function with DH parameters\n",
    "def dh_matrix(a, d, alpha, theta):\n",
    "    return Matrix([\n",
    "        [cos(theta), -sin(theta)*cos(alpha),  sin(theta)*sin(alpha), a*cos(theta)],\n",
    "        [sin(theta),  cos(theta)*cos(alpha), -cos(theta)*sin(alpha), a*sin(theta)],\n",
    "        [0,           sin(alpha),             cos(alpha),            d],\n",
    "        [0,           0,                      0,                     1]\n",
    "    ])"
   ]
  },
  {
   "cell_type": "code",
   "execution_count": null,
   "metadata": {},
   "outputs": [],
   "source": [
    "# compute the overall transformation matrix\n",
    "T_TCP = Matrix.eye(4)  # initialize as identity matrix for the multiplication\n",
    "for i in range(6):\n",
    "    T_TCP = T_TCP * dh_matrix(a[i], d[i], alpha[i], theta[i])\n",
    "\n",
    "T_TCP.simplify()\n",
    "T_TCP"
   ]
  },
  {
   "cell_type": "markdown",
   "metadata": {},
   "source": [
    "### Starting position of the robot "
   ]
  },
  {
   "cell_type": "markdown",
   "metadata": {},
   "source": [
    "**Starting Point of the TCP**\n",
    "\n",
    "The starting position of the TCP corresponds to the value of $\\vec{x}(t)$ at t=0 , which represents the beginning of the trajectory:\n",
    "\n",
    "$\n",
    "\\vec{x}(0) = \\begin{pmatrix}\n",
    "0.03 \\cdot \\cos(2\\pi \\cdot 0) \\\\\n",
    "0.03 \\cdot \\sin(2\\pi \\cdot 0) \\\\\n",
    "0.05 \\cdot 0\n",
    "\\end{pmatrix} = \\begin{pmatrix}\n",
    "0.03 \\\\\n",
    "0 \\\\\n",
    "0\n",
    "\\end{pmatrix}\n",
    "$"
   ]
  },
  {
   "cell_type": "markdown",
   "metadata": {},
   "source": [
    "## forward kinematics:"
   ]
  },
  {
   "cell_type": "code",
   "execution_count": null,
   "metadata": {},
   "outputs": [],
   "source": [
    "def dh_transform_matrix(a, d, alpha, theta):\n",
    "    \"\"\"\n",
    "    Compute the Denavit-Hartenberg transformation matrix.\n",
    "    \"\"\"\n",
    "    return np.array([\n",
    "        [np.cos(theta), -np.sin(theta), 0, a],\n",
    "        [np.sin(theta) * np.cos(alpha), np.cos(theta) * np.cos(alpha), -np.sin(alpha), -d * np.sin(alpha)],\n",
    "        [np.sin(theta) * np.sin(alpha), np.cos(theta) * np.sin(alpha), np.cos(alpha), d * np.cos(alpha)],\n",
    "        [0, 0, 0, 1]\n",
    "    ])\n",
    "\n",
    "\n",
    "def forward_kinematics(theta):\n",
    "    \"\"\"\n",
    "    Calculate the end-effector position using the provided joint angles (theta).\n",
    "    \"\"\"\n",
    "    # DH parameters for each joint: (a, d, alpha, theta)\n",
    "    dh_params = [\n",
    "        (0, 0.15185, np.pi/2, theta[0]),\n",
    "        (-0.24355, 0, 0, theta[1]),\n",
    "        (-0.2132, 0, 0, theta[2]),\n",
    "        (0, 0.13105, np.pi/2, theta[3]),\n",
    "        (0, 0.08535, -np.pi/2, theta[4]),\n",
    "        (0, 0.0921, 0, theta[5])\n",
    "    ]\n",
    "    \n",
    "    T = np.eye(4)\n",
    "    for params in dh_params:\n",
    "        T = np.dot(T, dh_transform_matrix(*params))\n",
    "    \n",
    "    # Extract position from the final transformation matrix\n",
    "    position = T[:3, 3]\n",
    "    return position\n"
   ]
  },
  {
   "cell_type": "code",
   "execution_count": null,
   "metadata": {},
   "outputs": [],
   "source": [
    "def rotation_matrix_to_euler_angles(R):\n",
    "    \"\"\"\n",
    "    Convert a rotation matrix to Euler angles.\n",
    "    \"\"\"\n",
    "    sy = np.sqrt(R[0, 0] * R[0, 0] +  R[1, 0] * R[1, 0])\n",
    "    singular = sy < 1e-6\n",
    "    if not singular:\n",
    "        x = np.arctan2(R[2, 1], R[2, 2])\n",
    "        y = np.arctan2(-R[2, 0], sy)\n",
    "        z = np.arctan2(R[1, 0], R[0, 0])\n",
    "    else:\n",
    "        x = np.arctan2(-R[1, 2], R[1, 1])\n",
    "        y = np.arctan2(-R[2, 0], sy)\n",
    "        z = 0\n",
    "    return np.array([x, y, z])\n",
    "\n",
    "def forward_kinematics_with_orientation(theta):\n",
    "    \"\"\"\n",
    "    Calculate the end-effector position and orientation using the provided joint angles (theta).\n",
    "    Orientation is returned as Euler angles.\n",
    "    \"\"\"\n",
    "    # Assuming dh_transform_matrix() is defined as before and calculates the DH transformation matrix.\n",
    "    # Assuming dh_params is a list of DH parameters for each joint, as defined in a previous example.\n",
    "\n",
    "    T = np.eye(4)\n",
    "\n",
    "    dh_params = [\n",
    "    (0, 0.15185, np.pi/2, theta[0]),\n",
    "    (-0.24355, 0, 0, theta[1]),\n",
    "    (-0.2132, 0, 0, theta[2]),\n",
    "    (0, 0.13105, np.pi/2, theta[3]),\n",
    "    (0, 0.08535, -np.pi/2, theta[4]),\n",
    "    (0, 0.0921, 0, theta[5])\n",
    "    ]\n",
    "    \n",
    "    for params in dh_params:\n",
    "        T = np.dot(T, dh_transform_matrix(*params, theta=params[-1]))\n",
    "\n",
    "    # Extract position from the final transformation matrix\n",
    "    position = T[:3, 3]\n",
    "\n",
    "    # Extract orientation as Euler angles from the rotation part of the matrix\n",
    "    orientation = rotation_matrix_to_euler_angles(T[:3, :3])\n",
    "\n",
    "    return position, orientation\n"
   ]
  },
  {
   "cell_type": "markdown",
   "metadata": {},
   "source": [
    "## inverse kinematics:"
   ]
  },
  {
   "cell_type": "code",
   "execution_count": null,
   "metadata": {},
   "outputs": [],
   "source": [
    "def objective_function_with_orientation(theta, target_position, constant_orientation):\n",
    "    \"\"\"\n",
    "    Calculate the combined positional and orientational error for the robot end-effector.\n",
    "    \"\"\"\n",
    "    # Calculate the current position and orientation from forward kinematics\n",
    "    current_pose = forward_kinematics_with_orientation(theta)\n",
    "    current_position = current_pose[:3]\n",
    "    current_orientation = current_pose[3:]  # Assuming this function also returns orientation\n",
    "\n",
    "    # Calculate the positional error\n",
    "    position_error = np.linalg.norm(current_position - target_position)\n",
    "    \n",
    "    # Calculate the orientational error, for example, as the angle between current and desired orientation vectors\n",
    "    # This is a simplification; in practice, you might use quaternion distances or other measures\n",
    "    orientation_error = np.linalg.norm(constant_orientation - current_orientation)\n",
    "\n",
    "    # Combine errors, possibly with weighting factors if needed\n",
    "    total_error = position_error + orientation_error\n",
    "    \n",
    "    return total_error\n",
    "\n",
    "\n",
    "target_position = np.array([0.03, 0, 0])\n",
    "initial_guess = np.zeros(6)  # Initial guess for the joint angles\n",
    "\n",
    "# if orientation remains constant:\n",
    "constant_orientation = [0, 0, 0]  # in Euler angles (roll, pitch, yaw)\n",
    "\n",
    "result = minimize(objective_function_with_orientation, initial_guess, args=(target_position,), method='SLSQP')\n",
    "\n",
    "if result.success:\n",
    "    optimal_theta = result.x\n",
    "    print(\"Optimal joint angles:\", np.degrees(optimal_theta))\n",
    "else:\n",
    "    print(\"Optimization was not successful.\")"
   ]
  },
  {
   "cell_type": "markdown",
   "metadata": {},
   "source": [
    "This is a **numerical optimization method** to find joint angles that position the TCP close to the desired starting point of the helical trajectory. It may converge to local minima and depends on the **initial guess** for the joint angles. \n",
    "todo:\n",
    "-  should consider joint limits"
   ]
  }
 ],
 "metadata": {
  "kernelspec": {
   "display_name": ".venv",
   "language": "python",
   "name": "python3"
  },
  "language_info": {
   "codemirror_mode": {
    "name": "ipython",
    "version": 3
   },
   "file_extension": ".py",
   "mimetype": "text/x-python",
   "name": "python",
   "nbconvert_exporter": "python",
   "pygments_lexer": "ipython3",
   "version": "3.9.6"
  }
 },
 "nbformat": 4,
 "nbformat_minor": 2
}
